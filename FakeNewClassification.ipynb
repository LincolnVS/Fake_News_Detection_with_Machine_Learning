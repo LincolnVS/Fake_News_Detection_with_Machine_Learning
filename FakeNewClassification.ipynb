{
  "nbformat": 4,
  "nbformat_minor": 0,
  "metadata": {
    "colab": {
      "name": "FakeNewClassification.ipynb",
      "provenance": [],
      "collapsed_sections": [],
      "authorship_tag": "ABX9TyMCiteMh5PPvJlzbgV4KJj8"
    },
    "kernelspec": {
      "name": "python3",
      "display_name": "Python 3"
    }
  },
  "cells": [
    {
      "cell_type": "code",
      "metadata": {
        "id": "0z38ey1PiLvk",
        "colab_type": "code",
        "colab": {
          "base_uri": "https://localhost:8080/",
          "height": 51
        },
        "outputId": "5b314cb7-e590-4d39-b87d-83065285a80f"
      },
      "source": [
        "import nltk\n",
        "nltk.download('punkt')\n",
        "\n",
        "import tensorflow as tf\n",
        "import pandas as pd\n",
        "import numpy as np\n",
        "import matplotlib.pyplot as plt\n",
        "import seaborn as sns\n",
        "from wordcloud import WordCloud, STOPWORDS\n",
        "import nltk\n",
        "import re\n",
        "from nltk.stem import PorterStemmer, WordNetLemmatizer\n",
        "from nltk.corpus import stopwords\n",
        "from nltk.tokenize import word_tokenize, sent_tokenize\n",
        "import gensim\n",
        "from gensim.utils import simple_preprocess\n",
        "from gensim.parsing.preprocessing import STOPWORDS\n",
        "# import keras\n",
        "from tensorflow.keras.preprocessing.text import one_hot, Tokenizer\n",
        "from tensorflow.keras.preprocessing.sequence import pad_sequences\n",
        "from tensorflow.keras.models import Sequential\n",
        "from tensorflow.keras.layers import Dense, Flatten, Embedding, Input, LSTM, Conv1D, MaxPool1D, Bidirectional\n",
        "from tensorflow.keras.models import Model\n",
        "\n",
        "fake_url = 'https://raw.githubusercontent.com/lincolnvs/Fake_News_Detection_with_Machine_Learning/master/Fake.csv'\n",
        "df_fake = pd.read_csv(fake_url)\n",
        "\n",
        "true_url = 'https://raw.githubusercontent.com/lincolnvs/Fake_News_Detection_with_Machine_Learning/master/True.csv'\n",
        "df_true = pd.read_csv(true_url)\n",
        "# Dataset is now stored in a Pandas Dataframe"
      ],
      "execution_count": 12,
      "outputs": [
        {
          "output_type": "stream",
          "text": [
            "[nltk_data] Downloading package punkt to /root/nltk_data...\n",
            "[nltk_data]   Package punkt is already up-to-date!\n"
          ],
          "name": "stdout"
        }
      ]
    },
    {
      "cell_type": "code",
      "metadata": {
        "id": "nY3BG5gn4_ha",
        "colab_type": "code",
        "colab": {
          "base_uri": "https://localhost:8080/",
          "height": 493
        },
        "outputId": "348f26dc-e6b9-4633-b0a0-566fb520a1e4"
      },
      "source": [
        "print(df_fake)\n",
        "print(df_true)"
      ],
      "execution_count": 13,
      "outputs": [
        {
          "output_type": "stream",
          "text": [
            "                                                   title  ...               date\n",
            "0       Donald Trump Sends Out Embarrassing New Year’...  ...  December 31, 2017\n",
            "1       Drunk Bragging Trump Staffer Started Russian ...  ...  December 31, 2017\n",
            "2       Sheriff David Clarke Becomes An Internet Joke...  ...  December 30, 2017\n",
            "3       Trump Is So Obsessed He Even Has Obama’s Name...  ...  December 29, 2017\n",
            "4       Pope Francis Just Called Out Donald Trump Dur...  ...  December 25, 2017\n",
            "...                                                  ...  ...                ...\n",
            "23476  McPain: John McCain Furious That Iran Treated ...  ...   January 16, 2016\n",
            "23477  JUSTICE? Yahoo Settles E-mail Privacy Class-ac...  ...   January 16, 2016\n",
            "23478  Sunnistan: US and Allied ‘Safe Zone’ Plan to T...  ...   January 15, 2016\n",
            "23479  How to Blow $700 Million: Al Jazeera America F...  ...   January 14, 2016\n",
            "23480  10 U.S. Navy Sailors Held by Iranian Military ...  ...   January 12, 2016\n",
            "\n",
            "[23481 rows x 4 columns]\n",
            "                                                   title  ...                date\n",
            "0      As U.S. budget fight looms, Republicans flip t...  ...  December 31, 2017 \n",
            "1      U.S. military to accept transgender recruits o...  ...  December 29, 2017 \n",
            "2      Senior U.S. Republican senator: 'Let Mr. Muell...  ...  December 31, 2017 \n",
            "3      FBI Russia probe helped by Australian diplomat...  ...  December 30, 2017 \n",
            "4      Trump wants Postal Service to charge 'much mor...  ...  December 29, 2017 \n",
            "...                                                  ...  ...                 ...\n",
            "21412  'Fully committed' NATO backs new U.S. approach...  ...    August 22, 2017 \n",
            "21413  LexisNexis withdrew two products from Chinese ...  ...    August 22, 2017 \n",
            "21414  Minsk cultural hub becomes haven from authorities  ...    August 22, 2017 \n",
            "21415  Vatican upbeat on possibility of Pope Francis ...  ...    August 22, 2017 \n",
            "21416  Indonesia to buy $1.14 billion worth of Russia...  ...    August 22, 2017 \n",
            "\n",
            "[21417 rows x 4 columns]\n"
          ],
          "name": "stdout"
        }
      ]
    }
  ]
}